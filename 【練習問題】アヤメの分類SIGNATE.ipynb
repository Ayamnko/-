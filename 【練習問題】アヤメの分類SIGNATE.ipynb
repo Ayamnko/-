{
  "nbformat": 4,
  "nbformat_minor": 0,
  "metadata": {
    "colab": {
      "provenance": [],
      "authorship_tag": "ABX9TyMZcq85MkuU84SpQ8yS6UJC"
    },
    "kernelspec": {
      "name": "python3",
      "display_name": "Python 3"
    },
    "language_info": {
      "name": "python"
    }
  },
  "cells": [
    {
      "cell_type": "code",
      "source": [
        "# ライブラリのインポート\n",
        "import pandas as pd\n",
        "from sklearn.model_selection import train_test_split\n",
        "from sklearn.metrics import accuracy_score\n",
        "import xgboost as xgb\n",
        "from sklearn.ensemble import GradientBoostingClassifier\n",
        "from sklearn.metrics import confusion_matrix\n",
        "from sklearn.metrics import classification_report\n",
        "import seaborn as sns\n",
        "\n",
        "# データの読み込み\n",
        "train_df = pd.read_csv('train.tsv', sep='\\t' )\n",
        "test_df = pd.read_csv('test.tsv', sep='\\t')\n",
        "\n",
        "\n",
        "# 列名を変更する辞書を作成する\n",
        "new_columns = {\n",
        "    'id': 'ID',\n",
        "    'sepal length in cm': 'sl', # がく片長（cm)\n",
        "    'sepal width in cm' : 'sw', # がく片幅（cm）\n",
        "    'petal length in cm': 'pl', # 花弁長（cm)\n",
        "    'petal width in cm' : 'pw', # 花弁幅（cm)\n",
        "    'class'             : 'cs', # 品種(目的変数)\n",
        "}\n",
        "\n",
        "# 列名を変更する\n",
        "train_df = train_df.rename(columns=new_columns)\n",
        "test_df = test_df.rename(columns=new_columns)\n",
        "\n",
        "# マッピング辞書の定義\n",
        "mapping = {\n",
        "    'Iris-setosa': 0,\n",
        "    'Iris-virginica': 1,\n",
        "    'Iris-versicolor': 2\n",
        "}\n",
        "\n",
        "# cs列をマッピングで置換する\n",
        "train_df['cs'] = train_df['cs'].map(mapping)\n",
        "\n",
        "# cs列のデータ型を整数型に変換する\n",
        "train_df['cs'] = train_df['cs'].astype(int)\n",
        "\n",
        "# 結果の表示\n",
        "print('最終形:')\n",
        "print(train_df.head())\n",
        "print(test_df.head())"
      ],
      "metadata": {
        "colab": {
          "base_uri": "https://localhost:8080/"
        },
        "collapsed": true,
        "id": "XD9IK8c4ds3r",
        "outputId": "43d81b19-0897-43b0-ba13-399abdb61ed6"
      },
      "execution_count": 13,
      "outputs": [
        {
          "output_type": "stream",
          "name": "stdout",
          "text": [
            "最終形:\n",
            "   ID   sl   sw   pl   pw  cs\n",
            "0   0  5.3  3.7  1.5  0.2   0\n",
            "1   1  6.8  2.8  4.8  1.4   2\n",
            "2   3  6.1  3.0  4.9  1.8   1\n",
            "3   4  6.4  3.2  5.3  2.3   1\n",
            "4   5  6.3  3.3  4.7  1.6   2\n",
            "   ID   sl   sw   pl   pw\n",
            "0   2  6.1  2.8  4.7  1.2\n",
            "1   7  6.3  2.5  4.9  1.5\n",
            "2   8  6.2  3.4  5.4  2.3\n",
            "3  10  6.7  3.1  4.7  1.5\n",
            "4  13  5.0  3.4  1.6  0.4\n"
          ]
        }
      ]
    },
    {
      "cell_type": "code",
      "source": [
        "# 特徴量と目的変数の取得\n",
        "X_train = train_df[['sl', 'sw', 'pl', 'pw']]\n",
        "y_train = train_df['cs']\n",
        "\n",
        "#学習用とテスト用に分類\n",
        "X_train, X_test, y_train, y_test = train_test_split(\n",
        "    X_train, y_train, test_size=0.5, random_state=49, stratify=y_train\n",
        ")\n",
        "\n",
        "# 勾配ブースティング\n",
        "model = GradientBoostingClassifier(\n",
        "    n_estimators=13,\n",
        "    random_state=49,\n",
        "    max_depth=3\n",
        ")\n",
        "\n",
        "model.fit(X_train, y_train)\n",
        "\n",
        "# モデルの評価\n",
        "\n",
        "# 予測の実行\n",
        "y_pred = model.predict(X_test)\n",
        "\n",
        "# 混同行列\n",
        "cm = confusion_matrix(y_test, y_pred)\n",
        "\n",
        "# 適合率と再現率\n",
        "print(classification_report(y_test, y_pred))\n",
        "\n",
        "# 各種評価値\n",
        "cr=classification_report(y_test, y_pred, output_dict=True)\n",
        "pd.DataFrame(cr)\n",
        "pd.DataFrame(cm)\n",
        "\n",
        "# モデルの特徴量の重要度を取得する\n",
        "feature_importances = model.feature_importances_\n",
        "\n",
        "# 特徴量の重要度をプロットする\n",
        "sns.barplot(x=feature_importances, y=X_train.columns)\n",
        "\n",
        "# テストデータで予測\n",
        "y_test_pred_num = model.predict(test_df[['sl', 'sw', 'pl', 'pw']])\n",
        "\n",
        "# 逆マッピング辞書の定義\n",
        "reverse_mapping = {v: k for k, v in mapping.items()}\n",
        "\n",
        "# 予測結果を逆マッピングで元のラベルに変換\n",
        "y_test_pred_label = [reverse_mapping[pred] for pred in y_test_pred_num]\n",
        "\n",
        "# 予測結果のデータフレームの作成\n",
        "df_predictions = pd.DataFrame({\n",
        "    'ID': test_df['ID'],\n",
        "    'Predicted_Number': y_test_pred_num,\n",
        "    'Predicted_Label': y_test_pred_label\n",
        "})\n",
        "\n",
        "# 予測結果のデータフレームの表示\n",
        "print(df_predictions)\n",
        "\n",
        "# 提出用データフレームの作成\n",
        "submission = pd.DataFrame({'ID': test_df['ID'], 'class': y_test_pred_label})\n",
        "\n",
        "# 提出用ファイルの保存\n",
        "submission.to_csv('submit.csv', index=False, header=False)"
      ],
      "metadata": {
        "id": "S_O2pXnFekwH",
        "colab": {
          "base_uri": "https://localhost:8080/",
          "height": 857
        },
        "outputId": "30d61b5f-4154-447b-e7d6-17e056aaa075"
      },
      "execution_count": 14,
      "outputs": [
        {
          "output_type": "stream",
          "name": "stdout",
          "text": [
            "              precision    recall  f1-score   support\n",
            "\n",
            "           0       1.00      1.00      1.00        13\n",
            "           1       1.00      1.00      1.00        15\n",
            "           2       1.00      1.00      1.00        10\n",
            "\n",
            "    accuracy                           1.00        38\n",
            "   macro avg       1.00      1.00      1.00        38\n",
            "weighted avg       1.00      1.00      1.00        38\n",
            "\n",
            "     ID  Predicted_Number  Predicted_Label\n",
            "0     2                 2  Iris-versicolor\n",
            "1     7                 2  Iris-versicolor\n",
            "2     8                 1   Iris-virginica\n",
            "3    10                 2  Iris-versicolor\n",
            "4    13                 0      Iris-setosa\n",
            "..  ...               ...              ...\n",
            "70  137                 2  Iris-versicolor\n",
            "71  141                 0      Iris-setosa\n",
            "72  144                 2  Iris-versicolor\n",
            "73  146                 1   Iris-virginica\n",
            "74  147                 0      Iris-setosa\n",
            "\n",
            "[75 rows x 3 columns]\n"
          ]
        },
        {
          "output_type": "display_data",
          "data": {
            "text/plain": [
              "<Figure size 640x480 with 1 Axes>"
            ],
            "image/png": "[encoded data removed]"
          },
          "metadata": {}
        }
      ]
    }
  ]
}